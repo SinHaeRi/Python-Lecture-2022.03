{
 "cells": [
  {
   "cell_type": "markdown",
   "metadata": {},
   "source": [
    "#### 5. 심사문제"
   ]
  },
  {
   "cell_type": "markdown",
   "metadata": {},
   "source": [
    "L이라는 게임에서 \"왜곡\"이라는 스킬이 AP * 0.6 + 225의 피해를 입힙니다. \n",
    "참고로 이 게임에서 AP(Ability Power, 주문력)는 마법 능력치를 뜻합니다. \n",
    "다음 소스 코드를 완성하여 스킬의 피해량이 출력되게 만드세요.\n",
    "\n",
    "AP: 102\n",
    "\n",
    "참고 | 코드 완성 문제\n",
    "미완성 코드가 제시되고 밑줄이 있는 문제는 코드 전체를 입력하면 안 됩니다. 반드시 밑줄에 해당하는 코드만 입력하세요.\n",
    "\n",
    "미완성 코드가 제시되지 않고 프로그램을 만들라고 나오는 경우에만 전체 코드를 입력하면 됩니다.\n"
   ]
  },
  {
   "cell_type": "code",
   "execution_count": 6,
   "metadata": {},
   "outputs": [
    {
     "name": "stdout",
     "output_type": "stream",
     "text": [
      "286.2\n"
     ]
    }
   ],
   "source": [
    "amount = 102 * 0.6 + 225\n",
    "print(amount)"
   ]
  },
  {
   "cell_type": "markdown",
   "metadata": {},
   "source": [
    "#### 6.1 심사문제"
   ]
  },
  {
   "cell_type": "markdown",
   "metadata": {},
   "source": [
    "다음 소스 코드를 완성하여 50, 100, None이 각 줄에 출력되게 만드세요.\n",
    "\n",
    "print(a)\n",
    "print(b)\n",
    "print(c)\n",
    "\n",
    "결과\n",
    "50\n",
    "100\n",
    "None"
   ]
  },
  {
   "cell_type": "code",
   "execution_count": 7,
   "metadata": {},
   "outputs": [
    {
     "name": "stdout",
     "output_type": "stream",
     "text": [
      "50\n",
      "100\n",
      "None\n"
     ]
    }
   ],
   "source": [
    "print(50); print(100); print(None)"
   ]
  },
  {
   "cell_type": "code",
   "execution_count": 10,
   "metadata": {},
   "outputs": [
    {
     "name": "stdout",
     "output_type": "stream",
     "text": [
      "50\n",
      "100\n",
      "None\n"
     ]
    }
   ],
   "source": [
    "print(50)\n",
    "print(100)\n",
    "print(None)"
   ]
  },
  {
   "cell_type": "markdown",
   "metadata": {},
   "source": [
    "#### 6.2 심사문제"
   ]
  },
  {
   "cell_type": "markdown",
   "metadata": {},
   "source": [
    "표준 입력으로 국어, 영어, 수학, 과학 점수가 입력됩니다.\n",
    "평균 점수를 출력하는 프로그램을 만드세요(input에서 안내 문자열은 출력하지 않아야 합니다). \n",
    "단, 평균 점수를 출력할 때는 소수점 이하 자리는 버립니다(정수로 출력).\n",
    "\n",
    "참고 | 심사문제에서 안내 문자열은?\n",
    "input에 문자열을 지정하면 입력을 받기 전에 안내 문자열을 출력할 수 있습니다. \n",
    "하지만 심사문제에서는 입력을 받을 때 안내 문자열을 출력하면 안 됩니다.\n",
    "\n",
    "a = int(input('숫자를 입력하세요: '))  # X 심사문제를 통과할 수 없음\n",
    "a = int(input())                     # O 올바른 코드\n",
    " \n",
    "a, b = map(int, input('숫자 두 개를 입력하세요: ').split()) # X 심사문제를 통과할 수 없음\n",
    "a, b = map(int, input().split())                          # O 올바른 코드\n",
    "따라서 input()과 같이 안내 문자열이 없는 형태로 사용해주세요.\n",
    "\n",
    "예\n",
    "입력\n",
    "83 92 87 90\n",
    "결과\n",
    "88\n",
    "\n",
    "입력\n",
    "32 53 22 95\n",
    "결과\n",
    "50"
   ]
  },
  {
   "cell_type": "code",
   "execution_count": 22,
   "metadata": {},
   "outputs": [
    {
     "data": {
      "text/plain": [
       "(83, 92, 87, 90)"
      ]
     },
     "execution_count": 22,
     "metadata": {},
     "output_type": "execute_result"
    }
   ],
   "source": [
    "korean, english, mathematics, science = map(int, input().split())\n",
    "korean, english, mathematics, science"
   ]
  },
  {
   "cell_type": "code",
   "execution_count": 23,
   "metadata": {},
   "outputs": [
    {
     "data": {
      "text/plain": [
       "88"
      ]
     },
     "execution_count": 23,
     "metadata": {},
     "output_type": "execute_result"
    }
   ],
   "source": [
    "# korean, english, mathematics, science의 평균값\n",
    "(83 + 92 + 87 + 90) // 4"
   ]
  },
  {
   "cell_type": "code",
   "execution_count": 1,
   "metadata": {},
   "outputs": [
    {
     "name": "stdout",
     "output_type": "stream",
     "text": [
      "88\n"
     ]
    }
   ],
   "source": [
    "score = list(map(int, input('국어, 영어, 수학, 과학 점수를 입력하세요').split()))\n",
    "average = sum(score) // len(score)\n",
    "print(average)"
   ]
  },
  {
   "cell_type": "code",
   "execution_count": 24,
   "metadata": {},
   "outputs": [
    {
     "data": {
      "text/plain": [
       "(32, 53, 22, 95)"
      ]
     },
     "execution_count": 24,
     "metadata": {},
     "output_type": "execute_result"
    }
   ],
   "source": [
    "korean, english, mathematics, science = map(int, input(', 로 4과목의 점수를 입력하세요').split(','))\n",
    "korean, english, mathematics, science"
   ]
  },
  {
   "cell_type": "code",
   "execution_count": 25,
   "metadata": {},
   "outputs": [
    {
     "data": {
      "text/plain": [
       "50"
      ]
     },
     "execution_count": 25,
     "metadata": {},
     "output_type": "execute_result"
    }
   ],
   "source": [
    "# korean, english, mathematics, science의 평균값\n",
    "(32 + 53 + 22 + 95) // 4"
   ]
  },
  {
   "cell_type": "markdown",
   "metadata": {},
   "source": [
    "#### 7.심사문제"
   ]
  },
  {
   "cell_type": "markdown",
   "metadata": {},
   "source": [
    "표준 입력으로 년, 월, 일, 시, 분, 초가 입력됩니다. \n",
    "다음 소스 코드를 완성하여 입력된 날짜와 시간을 년-월-일T시:분:초 형식으로 출력되게 만드세요.\n",
    "\n",
    " * 부분 완성형 문제이므로 밑줄친 부분에 들어갈 코드만 제출하세요.\n",
    "\n",
    "judge_print.py\n",
    "year, month, day, hour, minute, second = input().split()\n",
    "\n",
    "______________________________________\n",
    "print(hour, minute, second, sep=':')\n",
    "예\n",
    "입력\n",
    "1999 12 31 10 37 21\n",
    "결과\n",
    "1999-12-31T10:37:21\n",
    "\n",
    "입력\n",
    "2017 10 27 11 43 59\n",
    "결과\n",
    "2017-10-27T11:43:59"
   ]
  },
  {
   "cell_type": "markdown",
   "metadata": {},
   "source": [
    "년, 월, 일, 시, 분, 초를 년-월-일T시:분:초 형식으로 출력해야 합니다. 먼저 시간은 print(hour, minute, second, sep=':')와 같이 이미 출력하고 있습니다. 따라서 날짜만 출력하면 됩니다.\n",
    "날짜는 년-월-일 형식이므로 print에 year, month, day를 넣고 sep에 '-'를 지정하여 -로 구분해줍니다. 그다음에 날짜와 시간 사이에 'T'가 들어가고 한 줄로 출력될 수 있도록 end에 'T'를 지정합니다."
   ]
  },
  {
   "cell_type": "code",
   "execution_count": 3,
   "metadata": {},
   "outputs": [],
   "source": [
    "year,month,day,hour,minute,second = input().split()"
   ]
  },
  {
   "cell_type": "code",
   "execution_count": 4,
   "metadata": {},
   "outputs": [
    {
     "name": "stdout",
     "output_type": "stream",
     "text": [
      "2022-03-24T09:38:05\n"
     ]
    }
   ],
   "source": [
    "print(year, month, day, sep='-', end='T')\n",
    "print(hour, minute, second, sep=':')"
   ]
  },
  {
   "cell_type": "code",
   "execution_count": 5,
   "metadata": {},
   "outputs": [
    {
     "name": "stdout",
     "output_type": "stream",
     "text": [
      "2022-03-24T09:40:06\n"
     ]
    }
   ],
   "source": [
    "year,month,day,hour,minute,second = map(int, input().split())\n",
    "print(f'{year}-{month:02d}-{day:02d}T{hour:02d}:{minute:02d}:{second:02d}')"
   ]
  },
  {
   "cell_type": "code",
   "execution_count": 6,
   "metadata": {},
   "outputs": [
    {
     "name": "stdout",
     "output_type": "stream",
     "text": [
      "2022-03-24 09:51:07.150440\n"
     ]
    }
   ],
   "source": [
    "import datetime\n",
    "now = datetime.datetime.now()\n",
    "print(now)"
   ]
  },
  {
   "cell_type": "code",
   "execution_count": 7,
   "metadata": {},
   "outputs": [
    {
     "data": {
      "text/plain": [
       "2022"
      ]
     },
     "execution_count": 7,
     "metadata": {},
     "output_type": "execute_result"
    }
   ],
   "source": [
    "now.year"
   ]
  },
  {
   "cell_type": "code",
   "execution_count": 8,
   "metadata": {},
   "outputs": [
    {
     "data": {
      "text/plain": [
       "(2022, 3, 24, 9, 51, 7)"
      ]
     },
     "execution_count": 8,
     "metadata": {},
     "output_type": "execute_result"
    }
   ],
   "source": [
    "now.year, now.month, now.day, now.hour, now.minute, now.second  #옛날 스타일    "
   ]
  },
  {
   "cell_type": "code",
   "execution_count": 9,
   "metadata": {},
   "outputs": [
    {
     "name": "stdout",
     "output_type": "stream",
     "text": [
      "2022-03-24 09:55:39.545711+09:00\n"
     ]
    }
   ],
   "source": [
    "from pytz import timezone\n",
    "now = datetime.datetime.now(timezone('Asia/seoul'))\n",
    "print(now)"
   ]
  },
  {
   "cell_type": "code",
   "execution_count": 46,
   "metadata": {},
   "outputs": [],
   "source": [
    "year,month,day,hour,minute,second = input().split()"
   ]
  },
  {
   "cell_type": "code",
   "execution_count": 47,
   "metadata": {},
   "outputs": [
    {
     "name": "stdout",
     "output_type": "stream",
     "text": [
      "2017-10-27T11:43:59\n"
     ]
    }
   ],
   "source": [
    "print(year, month, day, sep='-', end='')\n",
    "print('T', end='')\n",
    "print(hour, minute, second, sep=':')"
   ]
  },
  {
   "cell_type": "markdown",
   "metadata": {},
   "source": [
    "#### 8.심사문제"
   ]
  },
  {
   "cell_type": "markdown",
   "metadata": {},
   "source": [
    "표준 입력으로 국어, 영어, 수학, 과학 점수가 입력됩니다. \n",
    "국어는 90점 이상, 영어는 80점 초과, 수학은 85점 초과, 과학은 80점 이상일 때 합격이라고 정했습니다\n",
    "(한 과목이라도 조건에 만족하지 않으면 불합격). \n",
    "다음 소스 코드를 완성하여 합격이면 True, 불합격이면 False가 출력되게 만드세요\n",
    "(input에서 안내 문자열은 출력하지 않아야 합니다).\n",
    "\n",
    "예\n",
    "입력\n",
    "90 81 86 80\n",
    "결과\n",
    "True\n",
    "\n",
    "입력\n",
    "90 80 85 80\n",
    "결과\n",
    "False"
   ]
  },
  {
   "cell_type": "code",
   "execution_count": 67,
   "metadata": {},
   "outputs": [],
   "source": [
    "korean, english, mathematics, science = map(int, input().split())"
   ]
  },
  {
   "cell_type": "code",
   "execution_count": 68,
   "metadata": {},
   "outputs": [
    {
     "data": {
      "text/plain": [
       "True"
      ]
     },
     "execution_count": 68,
     "metadata": {},
     "output_type": "execute_result"
    }
   ],
   "source": [
    "korean >= 90 and english > 80 and mathematics > 85 and science >= 80"
   ]
  },
  {
   "cell_type": "code",
   "execution_count": 69,
   "metadata": {},
   "outputs": [],
   "source": [
    "korean, english, mathematics, science = map(int, input().split())"
   ]
  },
  {
   "cell_type": "code",
   "execution_count": 70,
   "metadata": {},
   "outputs": [
    {
     "data": {
      "text/plain": [
       "False"
      ]
     },
     "execution_count": 70,
     "metadata": {},
     "output_type": "execute_result"
    }
   ],
   "source": [
    "korean >= 90 and english > 80 and mathematics > 85 and science >= 80"
   ]
  },
  {
   "cell_type": "code",
   "execution_count": 11,
   "metadata": {},
   "outputs": [],
   "source": [
    "kor, eng, mat, sci = map(int, input().split())"
   ]
  },
  {
   "cell_type": "code",
   "execution_count": 13,
   "metadata": {},
   "outputs": [
    {
     "name": "stdout",
     "output_type": "stream",
     "text": [
      "True\n"
     ]
    }
   ],
   "source": [
    "result = (kor >= 90) and (eng > 80) and (mat > 85) and (sci >= 80)\n",
    "print(result)"
   ]
  },
  {
   "cell_type": "code",
   "execution_count": null,
   "metadata": {},
   "outputs": [],
   "source": []
  }
 ],
 "metadata": {
  "interpreter": {
   "hash": "e48f609a4c5fca29c8a1775407f6fce609db058722d3a0684c1d7163d9441f10"
  },
  "kernelspec": {
   "display_name": "Python 3.9.7 ('base')",
   "language": "python",
   "name": "python3"
  },
  "language_info": {
   "codemirror_mode": {
    "name": "ipython",
    "version": 3
   },
   "file_extension": ".py",
   "mimetype": "text/x-python",
   "name": "python",
   "nbconvert_exporter": "python",
   "pygments_lexer": "ipython3",
   "version": "3.9.7"
  },
  "orig_nbformat": 4
 },
 "nbformat": 4,
 "nbformat_minor": 2
}
