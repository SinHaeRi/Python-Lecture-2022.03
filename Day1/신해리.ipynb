{
 "cells": [
  {
   "cell_type": "markdown",
   "metadata": {},
   "source": [
    "#### 5. 심사문제"
   ]
  },
  {
   "cell_type": "markdown",
   "metadata": {},
   "source": [
    "L이라는 게임에서 \"왜곡\"이라는 스킬이 AP * 0.6 + 225의 피해를 입힙니다. \n",
    "참고로 이 게임에서 AP(Ability Power, 주문력)는 마법 능력치를 뜻합니다. \n",
    "다음 소스 코드를 완성하여 스킬의 피해량이 출력되게 만드세요.\n",
    "\n",
    "AP: 102\n",
    "\n",
    "참고 | 코드 완성 문제\n",
    "미완성 코드가 제시되고 밑줄이 있는 문제는 코드 전체를 입력하면 안 됩니다. 반드시 밑줄에 해당하는 코드만 입력하세요.\n",
    "\n",
    "미완성 코드가 제시되지 않고 프로그램을 만들라고 나오는 경우에만 전체 코드를 입력하면 됩니다.\n"
   ]
  },
  {
   "cell_type": "code",
   "execution_count": 6,
   "metadata": {},
   "outputs": [
    {
     "name": "stdout",
     "output_type": "stream",
     "text": [
      "286.2\n"
     ]
    }
   ],
   "source": [
    "amount = 102 * 0.6 + 225\n",
    "print(amount)"
   ]
  },
  {
   "cell_type": "markdown",
   "metadata": {},
   "source": [
    "#### 6.1 심사문제"
   ]
  },
  {
   "cell_type": "markdown",
   "metadata": {},
   "source": [
    "다음 소스 코드를 완성하여 50, 100, None이 각 줄에 출력되게 만드세요.\n",
    "\n",
    "print(a)\n",
    "print(b)\n",
    "print(c)\n",
    "\n",
    "결과\n",
    "50\n",
    "100\n",
    "None"
   ]
  },
  {
   "cell_type": "code",
   "execution_count": 7,
   "metadata": {},
   "outputs": [
    {
     "name": "stdout",
     "output_type": "stream",
     "text": [
      "50\n",
      "100\n",
      "None\n"
     ]
    }
   ],
   "source": [
    "print(50); print(100); print(None)"
   ]
  },
  {
   "cell_type": "code",
   "execution_count": 10,
   "metadata": {},
   "outputs": [
    {
     "name": "stdout",
     "output_type": "stream",
     "text": [
      "50\n",
      "100\n",
      "None\n"
     ]
    }
   ],
   "source": [
    "print(50)\n",
    "print(100)\n",
    "print(None)"
   ]
  },
  {
   "cell_type": "markdown",
   "metadata": {},
   "source": [
    "#### 6.2 심사문제"
   ]
  },
  {
   "cell_type": "markdown",
   "metadata": {},
   "source": [
    "표준 입력으로 국어, 영어, 수학, 과학 점수가 입력됩니다.\n",
    "평균 점수를 출력하는 프로그램을 만드세요(input에서 안내 문자열은 출력하지 않아야 합니다). \n",
    "단, 평균 점수를 출력할 때는 소수점 이하 자리는 버립니다(정수로 출력).\n",
    "\n",
    "참고 | 심사문제에서 안내 문자열은?\n",
    "input에 문자열을 지정하면 입력을 받기 전에 안내 문자열을 출력할 수 있습니다. \n",
    "하지만 심사문제에서는 입력을 받을 때 안내 문자열을 출력하면 안 됩니다.\n",
    "\n",
    "a = int(input('숫자를 입력하세요: '))  # X 심사문제를 통과할 수 없음\n",
    "a = int(input())                     # O 올바른 코드\n",
    " \n",
    "a, b = map(int, input('숫자 두 개를 입력하세요: ').split()) # X 심사문제를 통과할 수 없음\n",
    "a, b = map(int, input().split())                          # O 올바른 코드\n",
    "따라서 input()과 같이 안내 문자열이 없는 형태로 사용해주세요.\n",
    "\n",
    "예\n",
    "입력\n",
    "83 92 87 90\n",
    "결과\n",
    "88\n",
    "\n",
    "입력\n",
    "32 53 22 95\n",
    "결과\n",
    "50"
   ]
  },
  {
   "cell_type": "code",
   "execution_count": 22,
   "metadata": {},
   "outputs": [
    {
     "data": {
      "text/plain": [
       "(83, 92, 87, 90)"
      ]
     },
     "execution_count": 22,
     "metadata": {},
     "output_type": "execute_result"
    }
   ],
   "source": [
    "korean, english, mathematics, science = map(int, input(', 로 4과목의 점수를 입력하세요').split(','))\n",
    "korean, english, mathematics, science"
   ]
  },
  {
   "cell_type": "code",
   "execution_count": 23,
   "metadata": {},
   "outputs": [
    {
     "data": {
      "text/plain": [
       "88"
      ]
     },
     "execution_count": 23,
     "metadata": {},
     "output_type": "execute_result"
    }
   ],
   "source": [
    "# korean, english, mathematics, science의 평균값\n",
    "(83 + 92 + 87 + 90) // 4"
   ]
  },
  {
   "cell_type": "code",
   "execution_count": 24,
   "metadata": {},
   "outputs": [
    {
     "data": {
      "text/plain": [
       "(32, 53, 22, 95)"
      ]
     },
     "execution_count": 24,
     "metadata": {},
     "output_type": "execute_result"
    }
   ],
   "source": [
    "korean, english, mathematics, science = map(int, input(', 로 4과목의 점수를 입력하세요').split(','))\n",
    "korean, english, mathematics, science"
   ]
  },
  {
   "cell_type": "code",
   "execution_count": 25,
   "metadata": {},
   "outputs": [
    {
     "data": {
      "text/plain": [
       "50"
      ]
     },
     "execution_count": 25,
     "metadata": {},
     "output_type": "execute_result"
    }
   ],
   "source": [
    "# korean, english, mathematics, science의 평균값\n",
    "(32 + 53 + 22 + 95) // 4"
   ]
  },
  {
   "cell_type": "code",
   "execution_count": null,
   "metadata": {},
   "outputs": [],
   "source": []
  }
 ],
 "metadata": {
  "interpreter": {
   "hash": "e48f609a4c5fca29c8a1775407f6fce609db058722d3a0684c1d7163d9441f10"
  },
  "kernelspec": {
   "display_name": "Python 3.9.7 ('base')",
   "language": "python",
   "name": "python3"
  },
  "language_info": {
   "codemirror_mode": {
    "name": "ipython",
    "version": 3
   },
   "file_extension": ".py",
   "mimetype": "text/x-python",
   "name": "python",
   "nbconvert_exporter": "python",
   "pygments_lexer": "ipython3",
   "version": "3.9.7"
  },
  "orig_nbformat": 4
 },
 "nbformat": 4,
 "nbformat_minor": 2
}
