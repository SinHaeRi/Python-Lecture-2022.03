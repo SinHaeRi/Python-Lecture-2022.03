{
 "cells": [
  {
   "cell_type": "markdown",
   "metadata": {},
   "source": [
    "#### 17.1 while 반복문"
   ]
  },
  {
   "cell_type": "code",
   "execution_count": 2,
   "metadata": {},
   "outputs": [
    {
     "name": "stdout",
     "output_type": "stream",
     "text": [
      "hello world 0\n",
      "hello world 1\n",
      "hello world 2\n",
      "hello world 3\n",
      "hello world 4\n"
     ]
    }
   ],
   "source": [
    "i = 0\n",
    "while i < 5:\n",
    "    print('hello world', i)     # i설정 안해주면 무한에 빠짐\n",
    "    i += 1\n",
    "# 반복횟수가 정해져있으면 for 사용, 반복횟수가 정해져있지 않으면 while"
   ]
  },
  {
   "cell_type": "markdown",
   "metadata": {},
   "source": [
    "### 17.2 반복횟수가 정해져 있지 않은 경우 (while-loop)"
   ]
  },
  {
   "cell_type": "code",
   "execution_count": 3,
   "metadata": {},
   "outputs": [],
   "source": [
    "import random"
   ]
  },
  {
   "cell_type": "code",
   "execution_count": 6,
   "metadata": {},
   "outputs": [
    {
     "name": "stdout",
     "output_type": "stream",
     "text": [
      "1 5 6 1 6 4 1 2 2 6 4 2 "
     ]
    }
   ],
   "source": [
    "#주사위가 3이 나올때까지 반복\n",
    "dice = random.randint(1,6)\n",
    "while dice != 3:\n",
    "    print(dice, end=' ')\n",
    "    dice = random.randint(1,6)\n"
   ]
  },
  {
   "cell_type": "code",
   "execution_count": 8,
   "metadata": {},
   "outputs": [
    {
     "name": "stdout",
     "output_type": "stream",
     "text": [
      "4 6 5 2 6 2 2 2 5 4 5 4 6 4 6 3 "
     ]
    }
   ],
   "source": [
    "dice = 0\n",
    "while dice != 3:\n",
    "    dice = random.randint(1,6)\n",
    "    print(dice, end=' ')"
   ]
  },
  {
   "cell_type": "code",
   "execution_count": 9,
   "metadata": {},
   "outputs": [
    {
     "name": "stdout",
     "output_type": "stream",
     "text": [
      "6 1 1 3 "
     ]
    }
   ],
   "source": [
    "# while 많이사용하는 경우\n",
    "while True:                                 # 무한 루프\n",
    "    dice = random.randint(1,6)\n",
    "    print(dice, end=' ')\n",
    "    if dice == 3:                           # 일반적으로 사용하는 경우\n",
    "        break"
   ]
  },
  {
   "cell_type": "code",
   "execution_count": null,
   "metadata": {},
   "outputs": [],
   "source": []
  }
 ],
 "metadata": {
  "interpreter": {
   "hash": "e48f609a4c5fca29c8a1775407f6fce609db058722d3a0684c1d7163d9441f10"
  },
  "kernelspec": {
   "display_name": "Python 3.9.7 ('base')",
   "language": "python",
   "name": "python3"
  },
  "language_info": {
   "codemirror_mode": {
    "name": "ipython",
    "version": 3
   },
   "file_extension": ".py",
   "mimetype": "text/x-python",
   "name": "python",
   "nbconvert_exporter": "python",
   "pygments_lexer": "ipython3",
   "version": "3.9.7"
  },
  "orig_nbformat": 4
 },
 "nbformat": 4,
 "nbformat_minor": 2
}
