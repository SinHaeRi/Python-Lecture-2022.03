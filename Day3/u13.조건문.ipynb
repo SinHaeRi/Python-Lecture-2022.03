{
 "cells": [
  {
   "cell_type": "markdown",
   "metadata": {},
   "source": [
    "# Unit13. if 조건문"
   ]
  },
  {
   "cell_type": "markdown",
   "metadata": {},
   "source": [
    "### 13.1 if 조건문"
   ]
  },
  {
   "cell_type": "code",
   "execution_count": 1,
   "metadata": {},
   "outputs": [],
   "source": [
    "import random"
   ]
  },
  {
   "cell_type": "code",
   "execution_count": 6,
   "metadata": {},
   "outputs": [
    {
     "name": "stdout",
     "output_type": "stream",
     "text": [
      "10입니다.\n"
     ]
    }
   ],
   "source": [
    "x = random.randint(9, 11)   #9에서 11까지의 랜덤 숫자를 뽑는 코드\n",
    "if x == 10:                 # if x == 10: --> 조건식, 맨마지막에 콜론(:) 붙일것.\n",
    "    print('10입니다.')      #해야할 구문은 print로 여기에. 아무말 없으면 10이 아니라는 것 "
   ]
  },
  {
   "cell_type": "code",
   "execution_count": 7,
   "metadata": {},
   "outputs": [
    {
     "name": "stdout",
     "output_type": "stream",
     "text": [
      "10\n"
     ]
    }
   ],
   "source": [
    "if x == 10:\n",
    "    pass                #로직구현안한상태(코드패스), Todo: x가 10일때 처리할 코드\n",
    "print(x)                #pass사용: 전체적인 가닥을 잡을때 , 후 pass를 Todo보고 처리."
   ]
  },
  {
   "cell_type": "code",
   "execution_count": 8,
   "metadata": {},
   "outputs": [
    {
     "name": "stdout",
     "output_type": "stream",
     "text": [
      "10\n"
     ]
    }
   ],
   "source": [
    "if x:\n",
    "    print(x)"
   ]
  },
  {
   "cell_type": "markdown",
   "metadata": {},
   "source": [
    "#### 13.2 if 조건문과 들여쓰기"
   ]
  },
  {
   "cell_type": "code",
   "execution_count": 10,
   "metadata": {},
   "outputs": [
    {
     "name": "stdout",
     "output_type": "stream",
     "text": [
      "들여쓰기가 끝나면 조건에 관계없이 실행됩니다.\n"
     ]
    }
   ],
   "source": [
    "if x == 9:\n",
    "    print('9입니다.')\n",
    "    print('들여쓰기한 이 부분은 조건이 참일 경우에 실행됩니다.')\n",
    "print('들여쓰기가 끝나면 조건에 관계없이 실행됩니다.')"
   ]
  },
  {
   "cell_type": "code",
   "execution_count": 11,
   "metadata": {},
   "outputs": [
    {
     "name": "stdout",
     "output_type": "stream",
     "text": [
      "10 입니다.\n",
      "들여쓰기한 이 부분은 조건이 참일 경우에 실행됩니다.\n",
      "들여쓰기가 끝나면 조건에 관계없이 실행됩니다.\n"
     ]
    }
   ],
   "source": [
    "if x == 10:\n",
    "    print(x, '입니다.')\n",
    "    print('들여쓰기한 이 부분은 조건이 참일 경우에 실행됩니다.')\n",
    "print('들여쓰기가 끝나면 조건에 관계없이 실행됩니다.')"
   ]
  },
  {
   "cell_type": "code",
   "execution_count": 12,
   "metadata": {},
   "outputs": [],
   "source": [
    "# 파이썬에서 권장하는 들여쓰기 = 4칸"
   ]
  },
  {
   "cell_type": "markdown",
   "metadata": {},
   "source": [
    "#### 13.3 중첩(Nested) 조건문 (if문이 if문을 품는것)"
   ]
  },
  {
   "cell_type": "code",
   "execution_count": 19,
   "metadata": {},
   "outputs": [
    {
     "name": "stdout",
     "output_type": "stream",
     "text": [
      "10이상입니다.\n",
      "15이상입니다.\n",
      "16\n"
     ]
    }
   ],
   "source": [
    "x = random.randint(1, 20)\n",
    "if x >= 10:\n",
    "    print('10이상입니다.')\n",
    "    if x >= 15:\n",
    "        print('15이상입니다.')\n",
    "\n",
    "print(x)"
   ]
  },
  {
   "cell_type": "code",
   "execution_count": 30,
   "metadata": {},
   "outputs": [
    {
     "name": "stdout",
     "output_type": "stream",
     "text": [
      "10이상입니다.\n",
      "3의 배수입니다.\n",
      "18\n"
     ]
    }
   ],
   "source": [
    "# 10이상 정수, 3의 배수를 찾기 \n",
    "x = random.randint(1, 20)\n",
    "if x >= 10:\n",
    "    print('10이상입니다.')\n",
    "    if x % 3 == 0:\n",
    "        print('3의 배수입니다.')\n",
    "\n",
    "print(x)"
   ]
  },
  {
   "cell_type": "code",
   "execution_count": 32,
   "metadata": {},
   "outputs": [
    {
     "name": "stdout",
     "output_type": "stream",
     "text": [
      "10이상입니다.\n",
      "10\n"
     ]
    }
   ],
   "source": [
    "x = random.randint(1, 20)\n",
    "if x >= 10:\n",
    "    print('10이상입니다.')\n",
    "    if x % 3 == 0:\n",
    "        print('3의 배수입니다.')\n",
    "\n",
    "print(x)"
   ]
  },
  {
   "cell_type": "code",
   "execution_count": null,
   "metadata": {},
   "outputs": [],
   "source": []
  }
 ],
 "metadata": {
  "interpreter": {
   "hash": "e48f609a4c5fca29c8a1775407f6fce609db058722d3a0684c1d7163d9441f10"
  },
  "kernelspec": {
   "display_name": "Python 3.9.7 ('base')",
   "language": "python",
   "name": "python3"
  },
  "language_info": {
   "codemirror_mode": {
    "name": "ipython",
    "version": 3
   },
   "file_extension": ".py",
   "mimetype": "text/x-python",
   "name": "python",
   "nbconvert_exporter": "python",
   "pygments_lexer": "ipython3",
   "version": "3.9.7"
  },
  "orig_nbformat": 4
 },
 "nbformat": 4,
 "nbformat_minor": 2
}
