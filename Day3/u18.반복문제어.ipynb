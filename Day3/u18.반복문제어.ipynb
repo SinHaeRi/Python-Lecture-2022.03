{
 "cells": [
  {
   "cell_type": "markdown",
   "metadata": {},
   "source": [
    "#### 18.1 break"
   ]
  },
  {
   "cell_type": "code",
   "execution_count": 3,
   "metadata": {},
   "outputs": [
    {
     "name": "stdout",
     "output_type": "stream",
     "text": [
      "(6, 4  "
     ]
    }
   ],
   "source": [
    "# 주사위를 두 번 굴려서 눈의 합이 10 이상이면 탈출\n",
    "import random\n",
    "\n",
    "while True:\n",
    "    dice1 = random.randint(1,6)\n",
    "    dice2 = random.randint(1,6)\n",
    "    print((f'({dice1}, {dice2}'), end='  ')\n",
    "    if dice1 + dice2 >= 10:\n",
    "        break"
   ]
  },
  {
   "cell_type": "code",
   "execution_count": 4,
   "metadata": {},
   "outputs": [
    {
     "name": "stdout",
     "output_type": "stream",
     "text": [
      "25 325\n"
     ]
    }
   ],
   "source": [
    "# for 문에서 break 쓰는 경우\n",
    "# 1에서 몇까지 더하면 누적합이 300을 초과하는가?\n",
    "cum_sum = 0\n",
    "for i in range(100):\n",
    "    cum_sum += i\n",
    "    if cum_sum > 300:\n",
    "        print(i, cum_sum)\n",
    "        break"
   ]
  },
  {
   "cell_type": "code",
   "execution_count": 5,
   "metadata": {},
   "outputs": [],
   "source": [
    "# 중첩 반복문에서는 루프 1개만 탈출\n",
    "for i in range(100):\n",
    "    for k in range(i+1):\n",
    "        break                   #break는 하나의 for-loop만 빠져나간다."
   ]
  },
  {
   "cell_type": "markdown",
   "metadata": {},
   "source": [
    "#### 18.2 continue\n",
    "\n",
    "컨티뉴가 있으면 건너뛰고 루프로 돌아간다"
   ]
  },
  {
   "cell_type": "code",
   "execution_count": 6,
   "metadata": {},
   "outputs": [
    {
     "name": "stdout",
     "output_type": "stream",
     "text": [
      "1 3 5 7 9 "
     ]
    }
   ],
   "source": [
    "# 홀수만 출력\n",
    "for i in range(10):\n",
    "    if i % 2 == 0:          #짝수면 아랫것 생략하고 위로 올라간다,\n",
    "        continue            #홀수면 다음으로 넘어가서 프린트된다.\n",
    "    print(i, end=' ')"
   ]
  },
  {
   "cell_type": "code",
   "execution_count": 7,
   "metadata": {},
   "outputs": [
    {
     "name": "stdout",
     "output_type": "stream",
     "text": [
      "1 3 5 7 9 "
     ]
    }
   ],
   "source": [
    "i = 0\n",
    "while i < 10:               # 잘 안사용함\n",
    "    i += 1\n",
    "    if i % 2 == 0:\n",
    "        continue\n",
    "    print(i, end=' ')"
   ]
  },
  {
   "cell_type": "code",
   "execution_count": null,
   "metadata": {},
   "outputs": [],
   "source": [
    "for i in range(10)\n",
    "    pass                # 아무일도 하지 않음"
   ]
  }
 ],
 "metadata": {
  "interpreter": {
   "hash": "e48f609a4c5fca29c8a1775407f6fce609db058722d3a0684c1d7163d9441f10"
  },
  "kernelspec": {
   "display_name": "Python 3.9.7 ('base')",
   "language": "python",
   "name": "python3"
  },
  "language_info": {
   "codemirror_mode": {
    "name": "ipython",
    "version": 3
   },
   "file_extension": ".py",
   "mimetype": "text/x-python",
   "name": "python",
   "nbconvert_exporter": "python",
   "pygments_lexer": "ipython3",
   "version": "3.9.7"
  },
  "orig_nbformat": 4
 },
 "nbformat": 4,
 "nbformat_minor": 2
}
