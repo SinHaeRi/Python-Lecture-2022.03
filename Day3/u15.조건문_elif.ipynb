{
 "cells": [
  {
   "cell_type": "markdown",
   "metadata": {},
   "source": [
    "# Unit 15. 조건문 elif"
   ]
  },
  {
   "cell_type": "markdown",
   "metadata": {},
   "source": [
    "<pre>\n",
    "if 콜라 버튼을 눌렀다면:\n",
    "    콜라를 내보냄\n",
    "elif 사이다 버튼을 눌렀다면:\n",
    "    사이다를 내보냄\n",
    "elif 환타 버튼을 눌렀다면:\n",
    "    환타를 내보냄:\n",
    "else:\n",
    "    제공하지 않는 메뉴\n",
    "</pre>\n",
    "처럼 한글로 생각한 로직을 코드로 변환하는 작업이 파이썬이다."
   ]
  },
  {
   "cell_type": "code",
   "execution_count": 1,
   "metadata": {},
   "outputs": [],
   "source": [
    "import random"
   ]
  },
  {
   "cell_type": "code",
   "execution_count": null,
   "metadata": {},
   "outputs": [],
   "source": [
    "# 90점 이상 A, 80점 이상 B, 70점 이상 C, 60점 이상 D, 나머지 F"
   ]
  },
  {
   "cell_type": "code",
   "execution_count": 11,
   "metadata": {},
   "outputs": [
    {
     "name": "stdout",
     "output_type": "stream",
     "text": [
      "91 A\n"
     ]
    }
   ],
   "source": [
    "score = random.randint(40,100)\n",
    "if score >= 90:\n",
    "    grade = 'A'\n",
    "elif score >= 80:\n",
    "    grade = 'B'\n",
    "elif score >= 70:\n",
    "    grade = 'C'\n",
    "else:\n",
    "    grade = 'F'\n",
    "print(score, grade)"
   ]
  },
  {
   "cell_type": "code",
   "execution_count": 12,
   "metadata": {},
   "outputs": [
    {
     "name": "stdout",
     "output_type": "stream",
     "text": [
      "80 B\n"
     ]
    }
   ],
   "source": [
    "score = random.randint(40,100)\n",
    "grade = 'A' if score >= 90 else \\                   # \\사용안하고 쭉 이어써도 되지만 보기쉽게 \\사용\n",
    "            'B' if score >= 80 else \\\n",
    "                'C' if score >= 70 else \\\n",
    "                    'D' if score >= 60 else 'F'\n",
    "print(score, grade)"
   ]
  },
  {
   "cell_type": "markdown",
   "metadata": {},
   "source": [
    "### 연습문제\n",
    "<pre>\n",
    "생일을 입력으로 받아 오늘 현재의 만 나이를 계산하세요.\n",
    "</pre>"
   ]
  },
  {
   "cell_type": "code",
   "execution_count": 13,
   "metadata": {},
   "outputs": [
    {
     "data": {
      "text/plain": [
       "(2022, 3, 25)"
      ]
     },
     "execution_count": 13,
     "metadata": {},
     "output_type": "execute_result"
    }
   ],
   "source": [
    "import datetime as dt\n",
    "today = dt.date.today()\n",
    "today.year, today.month, today.day"
   ]
  },
  {
   "cell_type": "code",
   "execution_count": 15,
   "metadata": {},
   "outputs": [],
   "source": [
    "b_y, b_m, b_d = map(int, input('생년월일').split())"
   ]
  },
  {
   "cell_type": "code",
   "execution_count": 20,
   "metadata": {},
   "outputs": [
    {
     "name": "stdout",
     "output_type": "stream",
     "text": [
      "1989 10 24 32\n"
     ]
    }
   ],
   "source": [
    "if today.month < b_m:                       # 생일이 아직 안왔으면\n",
    "    age = today.year - b_y -1             \n",
    "elif today.month > b_m:                     # 생월이 지나지 않았으면\n",
    "    age = today.year - b_y\n",
    "else:                                       # 생월이 같으면\n",
    "    if today.day <= b_d:                        #생일이 지났거나 같으면\n",
    "        age = today.year - b_y -1\n",
    "    else:                                       #생일이 지나지 않았으면\n",
    "        age = today.year - b_y\n",
    "print(b_y, b_m, b_d, age)"
   ]
  },
  {
   "cell_type": "code",
   "execution_count": 22,
   "metadata": {},
   "outputs": [
    {
     "name": "stdout",
     "output_type": "stream",
     "text": [
      "1989 10 24 32\n"
     ]
    }
   ],
   "source": [
    "if today.month < b_m:\n",
    "    age = today.year - b_y -1\n",
    "elif today.month > b_m:\n",
    "    age = today.year - b_y\n",
    "else:\n",
    "    if today.day <= b_d:\n",
    "        age = today.year - b_y -1\n",
    "    else:\n",
    "        age = today.year - b_y\n",
    "\n",
    "print(b_y, b_m, b_d, age)"
   ]
  },
  {
   "cell_type": "code",
   "execution_count": null,
   "metadata": {},
   "outputs": [],
   "source": []
  }
 ],
 "metadata": {
  "interpreter": {
   "hash": "e48f609a4c5fca29c8a1775407f6fce609db058722d3a0684c1d7163d9441f10"
  },
  "kernelspec": {
   "display_name": "Python 3.9.7 ('base')",
   "language": "python",
   "name": "python3"
  },
  "language_info": {
   "codemirror_mode": {
    "name": "ipython",
    "version": 3
   },
   "file_extension": ".py",
   "mimetype": "text/x-python",
   "name": "python",
   "nbconvert_exporter": "python",
   "pygments_lexer": "ipython3",
   "version": "3.9.7"
  },
  "orig_nbformat": 4
 },
 "nbformat": 4,
 "nbformat_minor": 2
}
