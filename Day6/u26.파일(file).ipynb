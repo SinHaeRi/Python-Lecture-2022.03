{
 "cells": [
  {
   "cell_type": "markdown",
   "metadata": {},
   "source": [
    "# Unit 26. 파일(File)"
   ]
  },
  {
   "cell_type": "markdown",
   "metadata": {},
   "source": [
    "- process : 실행중인 프로그램\n",
    "file descriptor table\n",
    "standard input : 입력\n",
    "standard out: cmd화면\n",
    "standard error: out과 비슷\n",
    "\n",
    "open: 파일 불러오기 \n",
    "read/write: 읽고, 쓰기\n",
    "close: 파일 다썼으니 내보내겠다"
   ]
  },
  {
   "cell_type": "markdown",
   "metadata": {},
   "source": [
    "- 파일에 문자열 쓰기"
   ]
  },
  {
   "cell_type": "code",
   "execution_count": 3,
   "metadata": {},
   "outputs": [],
   "source": [
    "file = open('hello.txt', 'w') #hello.txt 파일을 쓰기모드(w)로 open\n",
    "file.write('hello, world!\\n')  #\\n 를 눌러야 개행이 된다.\n",
    "file.write('안녕하세요?')\n",
    "file.close()"
   ]
  },
  {
   "cell_type": "markdown",
   "metadata": {},
   "source": [
    "- 파일로부터 텍스트 읽기"
   ]
  },
  {
   "cell_type": "code",
   "execution_count": 4,
   "metadata": {},
   "outputs": [
    {
     "name": "stdout",
     "output_type": "stream",
     "text": [
      "hello, world!\n",
      "안녕하세요?\n"
     ]
    }
   ],
   "source": [
    "file = open('hello.txt', 'r')       #hello.txt 파일을 읽기모드(w)로 open     #'r' 안써도됨 : 디폴드값\n",
    "text = file.read()                  #크기 정보를 안주면 처음부터 끝까지 읽음\n",
    "print(text)\n",
    "file.close()"
   ]
  },
  {
   "cell_type": "code",
   "execution_count": 5,
   "metadata": {},
   "outputs": [
    {
     "name": "stdout",
     "output_type": "stream",
     "text": [
      "hello, world!\n",
      "안\n"
     ]
    }
   ],
   "source": [
    "file = open('hello.txt')       #모드 정보의 default 값은 'r' (read) 안써도됨 \n",
    "text = file.read(15)           #15글자 읽음 (\\n)도 한글자로 읽힘\n",
    "print(text)\n",
    "file.close()"
   ]
  },
  {
   "cell_type": "markdown",
   "metadata": {},
   "source": [
    "- 파이썬 스타일(with) : 자동 close"
   ]
  },
  {
   "cell_type": "code",
   "execution_count": 6,
   "metadata": {},
   "outputs": [
    {
     "name": "stdout",
     "output_type": "stream",
     "text": [
      "hello, world!\n",
      "안녕하세요?\n"
     ]
    }
   ],
   "source": [
    "with open('hello.txt') as file: \n",
    "    text = file.read()\n",
    "print(text)"
   ]
  },
  {
   "cell_type": "markdown",
   "metadata": {},
   "source": [
    "### 27.2 문자열 여러줄"
   ]
  },
  {
   "cell_type": "code",
   "execution_count": 8,
   "metadata": {},
   "outputs": [],
   "source": [
    "with open('hello.txt', 'w') as file:\n",
    "    for i in range(3):\n",
    "        file.write(f'hello, world! {i}\\n')"
   ]
  },
  {
   "cell_type": "code",
   "execution_count": 13,
   "metadata": {},
   "outputs": [],
   "source": [
    "fruits = ['apple\\n', 'banana\\n', 'cherry']\n",
    "with open('hello.txt', 'w') as file:\n",
    "    file.writelines(fruits)"
   ]
  },
  {
   "cell_type": "markdown",
   "metadata": {},
   "source": [
    "- 줄 단위로 작업할 내용이 있으면 아래와 같이 사용함"
   ]
  },
  {
   "cell_type": "code",
   "execution_count": 14,
   "metadata": {},
   "outputs": [
    {
     "name": "stdout",
     "output_type": "stream",
     "text": [
      "['apple\\n', 'banana\\n', 'cherry']\n"
     ]
    }
   ],
   "source": [
    "with open('hello.txt') as file:\n",
    "    lines = file.readlines()        #리스트로 가져온다\n",
    "print(lines)"
   ]
  },
  {
   "cell_type": "code",
   "execution_count": 15,
   "metadata": {},
   "outputs": [
    {
     "name": "stdout",
     "output_type": "stream",
     "text": [
      "apple\n",
      "banana\n",
      "cherry"
     ]
    }
   ],
   "source": [
    "with open('hello.txt') as file:\n",
    "    lines = file.readlines()\n",
    "for line in lines:                  #줄단위로 작업시 사용\n",
    "    print(line, end='')"
   ]
  },
  {
   "cell_type": "code",
   "execution_count": null,
   "metadata": {},
   "outputs": [],
   "source": []
  }
 ],
 "metadata": {
  "interpreter": {
   "hash": "e48f609a4c5fca29c8a1775407f6fce609db058722d3a0684c1d7163d9441f10"
  },
  "kernelspec": {
   "display_name": "Python 3.9.7 ('base')",
   "language": "python",
   "name": "python3"
  },
  "language_info": {
   "codemirror_mode": {
    "name": "ipython",
    "version": 3
   },
   "file_extension": ".py",
   "mimetype": "text/x-python",
   "name": "python",
   "nbconvert_exporter": "python",
   "pygments_lexer": "ipython3",
   "version": "3.9.7"
  },
  "orig_nbformat": 4
 },
 "nbformat": 4,
 "nbformat_minor": 2
}
