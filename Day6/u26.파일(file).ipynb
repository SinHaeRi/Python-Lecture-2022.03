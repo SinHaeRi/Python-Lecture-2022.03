{
 "cells": [
  {
   "cell_type": "markdown",
   "metadata": {},
   "source": [
    "# Unit 26. 파일(File)"
   ]
  },
  {
   "cell_type": "markdown",
   "metadata": {},
   "source": [
    "- process : 실행중인 프로그램\n",
    "file descriptor table\n",
    "standard input : 입력\n",
    "standard out: cmd화면\n",
    "standard error: out과 비슷\n",
    "\n",
    "open: 파일 불러오기 \n",
    "read/write: 읽고, 쓰기\n",
    "close: 파일 다썼으니 내보내겠다"
   ]
  },
  {
   "cell_type": "markdown",
   "metadata": {},
   "source": [
    "- 파일에 문자열 쓰기"
   ]
  },
  {
   "cell_type": "code",
   "execution_count": 3,
   "metadata": {},
   "outputs": [],
   "source": [
    "file = open('hello.txt', 'w') #hello.txt 파일을 쓰기모드(w)로 open\n",
    "file.write('hello, world!\\n')  #\\n 를 눌러야 개행이 된다.\n",
    "file.write('안녕하세요?')\n",
    "file.close()"
   ]
  },
  {
   "cell_type": "markdown",
   "metadata": {},
   "source": [
    "- 파일로부터 텍스트 읽기"
   ]
  },
  {
   "cell_type": "code",
   "execution_count": 4,
   "metadata": {},
   "outputs": [
    {
     "name": "stdout",
     "output_type": "stream",
     "text": [
      "hello, world!\n",
      "안녕하세요?\n"
     ]
    }
   ],
   "source": [
    "file = open('hello.txt', 'r')       #hello.txt 파일을 읽기모드(w)로 open     #'r' 안써도됨 : 디폴드값\n",
    "text = file.read()                  #크기 정보를 안주면 처음부터 끝까지 읽음\n",
    "print(text)\n",
    "file.close()"
   ]
  },
  {
   "cell_type": "code",
   "execution_count": 5,
   "metadata": {},
   "outputs": [
    {
     "name": "stdout",
     "output_type": "stream",
     "text": [
      "hello, world!\n",
      "안\n"
     ]
    }
   ],
   "source": [
    "file = open('hello.txt')       #모드 정보의 default 값은 'r' (read) 안써도됨 \n",
    "text = file.read(15)           #15글자 읽음 (\\n)도 한글자로 읽힘\n",
    "print(text)\n",
    "file.close()"
   ]
  },
  {
   "cell_type": "markdown",
   "metadata": {},
   "source": [
    "- 파이썬 스타일(with) : 자동 close"
   ]
  },
  {
   "cell_type": "code",
   "execution_count": 6,
   "metadata": {},
   "outputs": [
    {
     "name": "stdout",
     "output_type": "stream",
     "text": [
      "hello, world!\n",
      "안녕하세요?\n"
     ]
    }
   ],
   "source": [
    "with open('hello.txt') as file: \n",
    "    text = file.read()\n",
    "print(text)"
   ]
  },
  {
   "cell_type": "markdown",
   "metadata": {},
   "source": [
    "### 27.2 문자열 여러줄"
   ]
  },
  {
   "cell_type": "code",
   "execution_count": 8,
   "metadata": {},
   "outputs": [],
   "source": [
    "with open('hello.txt', 'w') as file:\n",
    "    for i in range(3):\n",
    "        file.write(f'hello, world! {i}\\n')"
   ]
  },
  {
   "cell_type": "code",
   "execution_count": 13,
   "metadata": {},
   "outputs": [],
   "source": [
    "fruits = ['apple\\n', 'banana\\n', 'cherry']\n",
    "with open('hello.txt', 'w') as file:\n",
    "    file.writelines(fruits)"
   ]
  },
  {
   "cell_type": "markdown",
   "metadata": {},
   "source": [
    "- 줄 단위로 작업할 내용이 있으면 아래와 같이 사용함"
   ]
  },
  {
   "cell_type": "code",
   "execution_count": 14,
   "metadata": {},
   "outputs": [
    {
     "name": "stdout",
     "output_type": "stream",
     "text": [
      "['apple\\n', 'banana\\n', 'cherry']\n"
     ]
    }
   ],
   "source": [
    "with open('hello.txt') as file:\n",
    "    lines = file.readlines()        #리스트로 가져온다\n",
    "print(lines)"
   ]
  },
  {
   "cell_type": "code",
   "execution_count": 15,
   "metadata": {},
   "outputs": [
    {
     "name": "stdout",
     "output_type": "stream",
     "text": [
      "apple\n",
      "banana\n",
      "cherry"
     ]
    }
   ],
   "source": [
    "with open('hello.txt') as file:\n",
    "    lines = file.readlines()\n",
    "for line in lines:                  #줄단위로 작업시 사용\n",
    "    print(line, end='')"
   ]
  },
  {
   "cell_type": "markdown",
   "metadata": {},
   "source": [
    "### 경로명 지정, 디렉토리만들기"
   ]
  },
  {
   "cell_type": "code",
   "execution_count": 16,
   "metadata": {},
   "outputs": [
    {
     "data": {
      "text/plain": [
       "False"
      ]
     },
     "execution_count": 16,
     "metadata": {},
     "output_type": "execute_result"
    }
   ],
   "source": [
    "# data 디렉토리가 있는지 확인, 없으면 만들어 주기\n",
    "import os           #offline system\n",
    "os.path.exists('data')      # data 디렉토리가 없으면 false가 뜲"
   ]
  },
  {
   "cell_type": "code",
   "execution_count": 17,
   "metadata": {},
   "outputs": [],
   "source": [
    "import os           \n",
    "if not os.path.exists('data'):      #data 디렉토리가 없으면\n",
    "    os.mkdir('data')                #data 디렉토리를 만들어 줘라"
   ]
  },
  {
   "cell_type": "code",
   "execution_count": 18,
   "metadata": {},
   "outputs": [
    {
     "data": {
      "text/plain": [
       "True"
      ]
     },
     "execution_count": 18,
     "metadata": {},
     "output_type": "execute_result"
    }
   ],
   "source": [
    "# 상대경로 \n",
    "os.path.exists('data')          #만들어진것. 있으니 true"
   ]
  },
  {
   "cell_type": "code",
   "execution_count": 19,
   "metadata": {},
   "outputs": [
    {
     "data": {
      "text/plain": [
       "False"
      ]
     },
     "execution_count": 19,
     "metadata": {},
     "output_type": "execute_result"
    }
   ],
   "source": [
    "# 절대경로\n",
    "os.path.exists('/content/data')"
   ]
  },
  {
   "cell_type": "markdown",
   "metadata": {},
   "source": [
    "- 경로지정 규칙\n",
    "<pre>\n",
    "1. 프로그램 내에서는 Back slash(\\) 대신에 Slash(/)를 쓸 것.\n",
    "2. 경로명에 공백을 두지 말 것\n",
    "3. 프로그램용이라면 디렉토리 이름에 한글을 쓰지 말 것\n",
    "</pre>"
   ]
  },
  {
   "cell_type": "code",
   "execution_count": 21,
   "metadata": {},
   "outputs": [],
   "source": [
    "data_file = 'data/hello.txt'\n",
    "file = open(data_file, 'w') \n",
    "file.write('hello, world!\\n')  \n",
    "file.write('안녕하세요?')\n",
    "file.close()"
   ]
  },
  {
   "cell_type": "code",
   "execution_count": null,
   "metadata": {},
   "outputs": [],
   "source": [
    "data_file = 'data/hello.txt'\n",
    "with open(data_file, 'w') as file: \n",
    "    file.write('hello, world!\\n')  \n",
    "    file.write('안녕하세요?')"
   ]
  },
  {
   "cell_type": "markdown",
   "metadata": {},
   "source": [
    "- append mode"
   ]
  },
  {
   "cell_type": "code",
   "execution_count": 22,
   "metadata": {},
   "outputs": [],
   "source": [
    "with open(data_file, 'a') as file: \n",
    "    file.write('hello, world!\\n')  \n",
    "    file.write('안녕하세요?')"
   ]
  },
  {
   "cell_type": "code",
   "execution_count": 23,
   "metadata": {},
   "outputs": [
    {
     "name": "stdout",
     "output_type": "stream",
     "text": [
      "apple\n",
      "banana\n",
      "cherry\n"
     ]
    }
   ],
   "source": [
    "with open('hello.txt') as file:\n",
    "    text = file.read()\n",
    "print(text)"
   ]
  },
  {
   "cell_type": "code",
   "execution_count": 24,
   "metadata": {},
   "outputs": [],
   "source": [
    "with open('hello.txt', 'w', encoding='euc-kr') as file:\n",
    "    file.write('이 글은 EUC-KR로 인코딩 되었습니다.\\n')\n",
    "    file.write('utf-8로 읽으면 글자가 깨집니다.')"
   ]
  },
  {
   "cell_type": "markdown",
   "metadata": {},
   "source": [
    "### 27.3 파이썬 객체 저장/로드(가져오기)"
   ]
  },
  {
   "cell_type": "code",
   "execution_count": 27,
   "metadata": {},
   "outputs": [],
   "source": [
    "import pickle\n",
    "\n",
    "person = {'name':'james', 'age':'17', 'address':'서울시 서초구 반포동'}\n",
    "\n",
    "with open('person.pkl', 'wb') as file:        #Write 이면서 binary\n",
    "    pickle.dump(person, file)"
   ]
  },
  {
   "cell_type": "code",
   "execution_count": 28,
   "metadata": {},
   "outputs": [
    {
     "data": {
      "text/plain": [
       "{'name': 'james', 'age': '17', 'address': '서울시 서초구 반포동'}"
      ]
     },
     "execution_count": 28,
     "metadata": {},
     "output_type": "execute_result"
    }
   ],
   "source": [
    "with open('person.pkl', 'rb') as file:      #read이면서 binary\n",
    "    james = pickle.load(file)\n",
    "james                                       #딕셔너리는 순서 보장이 안됨."
   ]
  },
  {
   "cell_type": "code",
   "execution_count": null,
   "metadata": {},
   "outputs": [],
   "source": [
    "# 파일 오픈이 필요없는 라이브러리도 있음\n",
    "import joblib\n",
    "joblib.dump(person, 'person.jl')    #객체를 바로 파일에 적게해준다\n",
    "james = joblib.load('person.jl')\n",
    "james"
   ]
  }
 ],
 "metadata": {
  "interpreter": {
   "hash": "e48f609a4c5fca29c8a1775407f6fce609db058722d3a0684c1d7163d9441f10"
  },
  "kernelspec": {
   "display_name": "Python 3.9.7 ('base')",
   "language": "python",
   "name": "python3"
  },
  "language_info": {
   "codemirror_mode": {
    "name": "ipython",
    "version": 3
   },
   "file_extension": ".py",
   "mimetype": "text/x-python",
   "name": "python",
   "nbconvert_exporter": "python",
   "pygments_lexer": "ipython3",
   "version": "3.9.7"
  },
  "orig_nbformat": 4
 },
 "nbformat": 4,
 "nbformat_minor": 2
}
