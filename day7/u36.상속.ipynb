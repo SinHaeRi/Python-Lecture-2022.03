{
 "cells": [
  {
   "cell_type": "markdown",
   "metadata": {},
   "source": [
    "# Unit 36. 상속(Inheritance)\n",
    "\n",
    "#### 36.1 기본상속"
   ]
  },
  {
   "cell_type": "code",
   "execution_count": 1,
   "metadata": {},
   "outputs": [],
   "source": [
    "# 기반(base) 클래스\n",
    "class Person:               \n",
    "    def greeting(self):\n",
    "        print('안녕하세요?')\n",
    "\n",
    "# 파생(derived) 클래스\n",
    "class Student(Person):      #상속을 받을 클래스를 적어넣는다\n",
    "    def study(self):\n",
    "        print('공부합니다.')\n",
    "        "
   ]
  },
  {
   "cell_type": "code",
   "execution_count": 2,
   "metadata": {},
   "outputs": [
    {
     "name": "stdout",
     "output_type": "stream",
     "text": [
      "공부합니다.\n"
     ]
    }
   ],
   "source": [
    "james = Student()           #자식 클래스\n",
    "james.study()"
   ]
  },
  {
   "cell_type": "code",
   "execution_count": 3,
   "metadata": {},
   "outputs": [
    {
     "name": "stdout",
     "output_type": "stream",
     "text": [
      "안녕하세요?\n"
     ]
    }
   ],
   "source": [
    "james.greeting()        #기반(부모) 클래스의 메소드 호출"
   ]
  },
  {
   "cell_type": "markdown",
   "metadata": {},
   "source": [
    "### 36.2 상속관계 및 포함관계\n",
    "- 상속관계\n",
    "<pre>\n",
    "Student와 Person은 상속관계 \n",
    "Student is a Person.\n",
    "is-a 관계\n",
    "</pre>"
   ]
  },
  {
   "cell_type": "markdown",
   "metadata": {},
   "source": [
    "- 포함관계\n",
    "<pre>\n",
    "사람 목록은 사람을 가지고 있다.\n",
    "PersonList has a person.\n",
    "has a 관계\n",
    "</pre>"
   ]
  },
  {
   "cell_type": "code",
   "execution_count": 10,
   "metadata": {},
   "outputs": [],
   "source": [
    "class PersonList:\n",
    "    def __init__(self):\n",
    "        self.person_list = []\n",
    "\n",
    "    def append_person(self, person):\n",
    "        self.person_list.append(person)"
   ]
  },
  {
   "cell_type": "code",
   "execution_count": 11,
   "metadata": {},
   "outputs": [],
   "source": [
    "my_friend = PersonList()\n",
    "james = Person()\n",
    "maria = Person()\n",
    "my_friend.append_person(james)\n",
    "my_friend.append_person(maria)"
   ]
  },
  {
   "cell_type": "code",
   "execution_count": 12,
   "metadata": {},
   "outputs": [
    {
     "data": {
      "text/plain": [
       "[<__main__.Person at 0x2ba694fa4c0>, <__main__.Person at 0x2ba694fa7c0>]"
      ]
     },
     "execution_count": 12,
     "metadata": {},
     "output_type": "execute_result"
    }
   ],
   "source": [
    "my_friend.person_list"
   ]
  },
  {
   "cell_type": "markdown",
   "metadata": {},
   "source": [
    "### 36.3 기반 클래스의 속성 사용하기\n"
   ]
  },
  {
   "cell_type": "code",
   "execution_count": 13,
   "metadata": {},
   "outputs": [],
   "source": [
    "class Person:\n",
    "    def __init__(self):\n",
    "        print('Person.__init__')\n",
    "        self.hello = '안녕하세요.'\n",
    "\n",
    "class Student(Person):\n",
    "    def __init__(self):             #__init__ 나도있고, 부모도있으면 하나만 돌아간다. 위에서 작동.\n",
    "        print('Student __init__')\n",
    "        self.school = '파이썬 코딩 도장'"
   ]
  },
  {
   "cell_type": "code",
   "execution_count": 14,
   "metadata": {},
   "outputs": [
    {
     "name": "stdout",
     "output_type": "stream",
     "text": [
      "Student __init__\n"
     ]
    },
    {
     "data": {
      "text/plain": [
       "'파이썬 코딩 도장'"
      ]
     },
     "execution_count": 14,
     "metadata": {},
     "output_type": "execute_result"
    }
   ],
   "source": [
    "james = Student()       #상속(부모)클래스의 인스턴스를 자식이 쓸수있다.\n",
    "james.school"
   ]
  },
  {
   "cell_type": "code",
   "execution_count": 15,
   "metadata": {},
   "outputs": [
    {
     "ename": "AttributeError",
     "evalue": "'Student' object has no attribute 'hello'",
     "output_type": "error",
     "traceback": [
      "\u001b[1;31m---------------------------------------------------------------------------\u001b[0m",
      "\u001b[1;31mAttributeError\u001b[0m                            Traceback (most recent call last)",
      "\u001b[1;32m~\\AppData\\Local\\Temp/ipykernel_13464/765591059.py\u001b[0m in \u001b[0;36m<module>\u001b[1;34m\u001b[0m\n\u001b[1;32m----> 1\u001b[1;33m \u001b[0mjames\u001b[0m\u001b[1;33m.\u001b[0m\u001b[0mhello\u001b[0m\u001b[1;33m\u001b[0m\u001b[1;33m\u001b[0m\u001b[0m\n\u001b[0m",
      "\u001b[1;31mAttributeError\u001b[0m: 'Student' object has no attribute 'hello'"
     ]
    }
   ],
   "source": [
    "james.hello             #__init__이 두개라서 작동하지 않음"
   ]
  },
  {
   "cell_type": "code",
   "execution_count": 16,
   "metadata": {},
   "outputs": [],
   "source": [
    "class Person:\n",
    "    def __init__(self):\n",
    "        print('Person __init__')\n",
    "        self.hello = '안녕하세요'\n",
    "\n",
    "class Soldier(Person):\n",
    "    def shoot(self):                    #__init__이 없어서 부모꺼로만 작동\n",
    "        print('총을 쏩니다.')"
   ]
  },
  {
   "cell_type": "code",
   "execution_count": 19,
   "metadata": {},
   "outputs": [
    {
     "name": "stdout",
     "output_type": "stream",
     "text": [
      "Person __init__\n"
     ]
    },
    {
     "data": {
      "text/plain": [
       "'안녕하세요'"
      ]
     },
     "execution_count": 19,
     "metadata": {},
     "output_type": "execute_result"
    }
   ],
   "source": [
    "peter = Soldier()\n",
    "peter.hello"
   ]
  },
  {
   "cell_type": "markdown",
   "metadata": {},
   "source": [
    "<pre>부모/자식이 모두 __init__ 메소드를 가지고 있을 경우</pre>\n"
   ]
  },
  {
   "cell_type": "code",
   "execution_count": null,
   "metadata": {},
   "outputs": [],
   "source": [
    "class Person:\n",
    "    def __init__(self):\n",
    "        print('Person.__init__')\n",
    "        self.hello = '안녕하세요.'\n",
    "\n",
    "class Student(Person):\n",
    "    def __init__(self):             #__init__ 나도있고, 부모도있으면 하나만 돌아간다. 위에서 작동.\n",
    "        print('Student __init__')\n",
    "        super().__init__()          # 기반클래스의 __init__메소드 호출, super가 지칭하는건 나의 부모\n",
    "        self.school = '파이썬 코딩 도장'    #속성값을 지정해주기 전에 super().__init__ 을 꼭 명시해줘야함"
   ]
  },
  {
   "cell_type": "markdown",
   "metadata": {},
   "source": [
    "#### 36.4 Method overriding : 무시하다, 우선하다라는 뜻\n",
    "- 원래 기능을 유지하면서 새로운 기능을 덧붙일때 사용\n",
    "- 부모의 기능을 상속받고, 자식이 갖고있는 내용이 변경되었을땐 \n",
    "    자식은 상속받은것중 쓸건쓰고, 변경할 건 변경하고"
   ]
  },
  {
   "cell_type": "code",
   "execution_count": 20,
   "metadata": {},
   "outputs": [],
   "source": [
    "class Person:\n",
    "    def greeting(self):\n",
    "        print('안녕하세요.')\n",
    "\n",
    "class Student(Person):\n",
    "    def greeting(self):\n",
    "        print('안녕하세요. 저는 파이썬 코딩 도장 학생입니다.')\n",
    "    "
   ]
  },
  {
   "cell_type": "code",
   "execution_count": 22,
   "metadata": {},
   "outputs": [
    {
     "name": "stdout",
     "output_type": "stream",
     "text": [
      "안녕하세요. 저는 파이썬 코딩 도장 학생입니다.\n"
     ]
    }
   ],
   "source": [
    "james = Student()       #자식클래스, 새롭게 만든 greeting 메세지를 쓰게함.\n",
    "james.greeting()"
   ]
  },
  {
   "cell_type": "markdown",
   "metadata": {},
   "source": [
    "### 36.5 다중상속\n",
    "- 별로 좋은 방법이 아니므로 사용하지 말 것"
   ]
  },
  {
   "cell_type": "markdown",
   "metadata": {},
   "source": [
    "### 36.6 추상클래스 - 인터페이스\n",
    "\n",
    "- 사용이유: 프로젝트 진행시 말로하면 형식이 제각각. --> 형식을 작성해서 업무 지시시\n",
    "- 추상클래스를 상속받은 클래스는, 추상클래스의 메소드를 모두 오버라이딩 해야 에러가 발생하지 않는다.\n",
    "- 인터페이스를 상속받은 클래스는, 인터페이스에 있는 메소드를 모두 구현해야한다.\n",
    "--> 인터페이스 메소드가 인터페이스의 규격이된다."
   ]
  },
  {
   "cell_type": "code",
   "execution_count": 24,
   "metadata": {},
   "outputs": [],
   "source": [
    "# 추상클래스 \n",
    "from abc import *\n",
    "\n",
    "class StudentBase(metaclass=ABCMeta):   #형식\n",
    "    @abstractmethod                     #추상메소드\n",
    "    def study(self):           \n",
    "        pass\n",
    "\n",
    "    @abstractmethod\n",
    "    def go_to_school(self):\n",
    "        pass"
   ]
  },
  {
   "cell_type": "code",
   "execution_count": 25,
   "metadata": {},
   "outputs": [],
   "source": [
    "#추상클래스 상속받고 자식클래스 생성 --> 추상메소드를 모두 오버라이딩 해줘야한다\n",
    "class Student(StudentBase):\n",
    "    def study(self):\n",
    "        print('공부하기')"
   ]
  },
  {
   "cell_type": "code",
   "execution_count": 26,
   "metadata": {},
   "outputs": [
    {
     "ename": "TypeError",
     "evalue": "Can't instantiate abstract class Student with abstract method go_to_school",
     "output_type": "error",
     "traceback": [
      "\u001b[1;31m---------------------------------------------------------------------------\u001b[0m",
      "\u001b[1;31mTypeError\u001b[0m                                 Traceback (most recent call last)",
      "\u001b[1;32m~\\AppData\\Local\\Temp/ipykernel_13464/1536317245.py\u001b[0m in \u001b[0;36m<module>\u001b[1;34m\u001b[0m\n\u001b[1;32m----> 1\u001b[1;33m \u001b[0mjames\u001b[0m \u001b[1;33m=\u001b[0m \u001b[0mStudent\u001b[0m\u001b[1;33m(\u001b[0m\u001b[1;33m)\u001b[0m\u001b[1;33m\u001b[0m\u001b[1;33m\u001b[0m\u001b[0m\n\u001b[0m",
      "\u001b[1;31mTypeError\u001b[0m: Can't instantiate abstract class Student with abstract method go_to_school"
     ]
    }
   ],
   "source": [
    "james = Student()       #클래스 선언시 에러가난다.\n"
   ]
  },
  {
   "cell_type": "code",
   "execution_count": 27,
   "metadata": {},
   "outputs": [],
   "source": [
    "class Student(StudentBase):\n",
    "    def study(self):\n",
    "        print('공부하기')\n",
    "    def go_to_school(self):\n",
    "        print('학교가기')"
   ]
  },
  {
   "cell_type": "code",
   "execution_count": 29,
   "metadata": {},
   "outputs": [
    {
     "name": "stdout",
     "output_type": "stream",
     "text": [
      "공부하기\n",
      "학교가기\n"
     ]
    }
   ],
   "source": [
    "maria = Student()       #에러안남\n",
    "maria.study()\n",
    "maria.go_to_school()"
   ]
  },
  {
   "cell_type": "code",
   "execution_count": null,
   "metadata": {},
   "outputs": [],
   "source": [
    "# 추상클래스 \n",
    "from abc import *\n",
    "\n",
    "class StudentBase(metaclass=ABCMeta):   #형식\n",
    "    @abstractmethod                     #추상메소드\n",
    "    def study(self,a):           \n",
    "        pass\n",
    "\n",
    "    @abstractmethod\n",
    "    def go_to_school(self,a):           #시그니처\n",
    "        pass"
   ]
  },
  {
   "cell_type": "code",
   "execution_count": null,
   "metadata": {},
   "outputs": [],
   "source": [
    "class Student(StudentBase):\n",
    "    def study(self,a):\n",
    "        print('공부하기')\n",
    "    def go_to_school(self,a):       #아규먼트까지 맞춰줘야한다. :시그니처\n",
    "        print('학교가기')"
   ]
  }
 ],
 "metadata": {
  "interpreter": {
   "hash": "e48f609a4c5fca29c8a1775407f6fce609db058722d3a0684c1d7163d9441f10"
  },
  "kernelspec": {
   "display_name": "Python 3.9.7 ('base')",
   "language": "python",
   "name": "python3"
  },
  "language_info": {
   "codemirror_mode": {
    "name": "ipython",
    "version": 3
   },
   "file_extension": ".py",
   "mimetype": "text/x-python",
   "name": "python",
   "nbconvert_exporter": "python",
   "pygments_lexer": "ipython3",
   "version": "3.9.7"
  },
  "orig_nbformat": 4
 },
 "nbformat": 4,
 "nbformat_minor": 2
}
