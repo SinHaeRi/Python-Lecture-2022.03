{
 "cells": [
  {
   "cell_type": "markdown",
   "metadata": {},
   "source": [
    "# Unit34. 클래스(Class)\n",
    "#### 34.1 클래스와 메소드 만들기"
   ]
  },
  {
   "cell_type": "code",
   "execution_count": 3,
   "metadata": {},
   "outputs": [],
   "source": [
    "class Person:                   #클래스 이름은 '대문자'로 시작   - 룰1\n",
    "    def greeting(self):         #클래스는 메소드자리()안에(첫번째 인자)는 무조건 self가 들어감 -룰2\n",
    "        print('hello')\n",
    "\n",
    "#클래스 : 붕어빵찍는 기계"
   ]
  },
  {
   "cell_type": "code",
   "execution_count": 4,
   "metadata": {},
   "outputs": [],
   "source": [
    "# 클래스의 인스턴스(객체)를 만들어야 클래스를 사용할 수 있음\n",
    "james = Person()                #인스턴스 : Person() -시작은 무조건 대문자\n",
    "maria = Person()                #생성자(Constructor) 함수"
   ]
  },
  {
   "cell_type": "code",
   "execution_count": 5,
   "metadata": {},
   "outputs": [
    {
     "name": "stdout",
     "output_type": "stream",
     "text": [
      "hello\n"
     ]
    }
   ],
   "source": [
    "james.greeting()                  #jame가 greeting이라는 메소드를 사용할수있다. 정의 이후에는 self 안씀. "
   ]
  },
  {
   "cell_type": "code",
   "execution_count": 6,
   "metadata": {},
   "outputs": [
    {
     "name": "stdout",
     "output_type": "stream",
     "text": [
      "hello\n"
     ]
    }
   ],
   "source": [
    "maria.greeting()"
   ]
  },
  {
   "cell_type": "code",
   "execution_count": 7,
   "metadata": {},
   "outputs": [
    {
     "name": "stdout",
     "output_type": "stream",
     "text": [
      "hello\n"
     ]
    }
   ],
   "source": [
    "Person().greeting()"
   ]
  },
  {
   "cell_type": "code",
   "execution_count": null,
   "metadata": {},
   "outputs": [],
   "source": [
    "#객체를 만들어주는 생성자 함수는 대문자를 써야한다\n",
    "#list, int, dict, range, 등  --> 생성자함수 but 소문자사용이유: 많이사용되는 함수는 소문자로 써주자. \n",
    "\n",
    "#인스턴스와 객체는 같다, 클래스와 객체는 다르다.\n",
    "\n",
    "#클래스: 붕어빵찍는기계, 객체: 붕어빵 = 인스턴스"
   ]
  },
  {
   "cell_type": "markdown",
   "metadata": {},
   "source": [
    "- 클래스 내에서 메소드 호출하기"
   ]
  },
  {
   "cell_type": "code",
   "execution_count": 10,
   "metadata": {},
   "outputs": [],
   "source": [
    "class Person:\n",
    "    def greeting(self):\n",
    "        print('Hello')\n",
    "\n",
    "    def hello(self):        #hello를 찍으면 greeting을 불러오는걸 만드려는 작업\n",
    "        self.greeting()         #클래스 내에서 속성이나 메소드를 참조할때는 self.xxx 한다."
   ]
  },
  {
   "cell_type": "code",
   "execution_count": 11,
   "metadata": {},
   "outputs": [
    {
     "name": "stdout",
     "output_type": "stream",
     "text": [
      "Hello\n"
     ]
    }
   ],
   "source": [
    "james = Person()\n",
    "james.hello()       #hello 메소드가 greeting 을 불러와 greeting의 프린트내용이 나옴"
   ]
  },
  {
   "cell_type": "markdown",
   "metadata": {},
   "source": [
    "- 특정 클래스의 인스턴스인지 확인하기"
   ]
  },
  {
   "cell_type": "code",
   "execution_count": 9,
   "metadata": {},
   "outputs": [
    {
     "data": {
      "text/plain": [
       "True"
      ]
     },
     "execution_count": 9,
     "metadata": {},
     "output_type": "execute_result"
    }
   ],
   "source": [
    "isinstance(james, Person)       #객체의 자료형을 판단할때 사용"
   ]
  },
  {
   "cell_type": "code",
   "execution_count": null,
   "metadata": {},
   "outputs": [],
   "source": [
    "# 음수와 실수에 대한 대비가 없다.\n",
    "def fact(n):\n",
    "    if n == 0:\n",
    "        return 1\n",
    "    return n * fact(n-1)"
   ]
  },
  {
   "cell_type": "code",
   "execution_count": 1,
   "metadata": {},
   "outputs": [],
   "source": [
    "def factorial(n):\n",
    "    if not isinstance(n, int) or n < 0:           #n이 정수냐? 아니면 0이 아니면\n",
    "        return None                             #None 해결할수 없다\n",
    "    if n== 0:\n",
    "        return 1\n",
    "    return n * factorial(n-1)"
   ]
  },
  {
   "cell_type": "code",
   "execution_count": 2,
   "metadata": {},
   "outputs": [
    {
     "data": {
      "text/plain": [
       "120"
      ]
     },
     "execution_count": 2,
     "metadata": {},
     "output_type": "execute_result"
    }
   ],
   "source": [
    "factorial(5)"
   ]
  },
  {
   "cell_type": "markdown",
   "metadata": {},
   "source": [
    "### 34.2 속성(Attribute)"
   ]
  },
  {
   "cell_type": "code",
   "execution_count": 3,
   "metadata": {},
   "outputs": [],
   "source": [
    "class Person:\n",
    "    def __init__(self):\n",
    "        self.hello = '안녕하세요?'      #hello 가 속성(자기자신)이 된다.\n",
    "    def greeing(self):              #속성을 나의 메소드 안에서 쓴다. \n",
    "        print(self.hello)        #속성을 쓰려면 앞에 self를 붙여야한다"
   ]
  },
  {
   "cell_type": "code",
   "execution_count": 4,
   "metadata": {},
   "outputs": [
    {
     "name": "stdout",
     "output_type": "stream",
     "text": [
      "안녕하세요?\n"
     ]
    }
   ],
   "source": [
    "maria = Person()        #maria가 Person이라는 인스턴스를 만듦\n",
    "maria.greeing()"
   ]
  },
  {
   "cell_type": "code",
   "execution_count": 5,
   "metadata": {},
   "outputs": [
    {
     "name": "stdout",
     "output_type": "stream",
     "text": [
      "How are you?\n"
     ]
    }
   ],
   "source": [
    "#바깥에서 속성값을 고칠수있다.\n",
    "\n",
    "maria.hello = 'How are you?'\n",
    "maria.greeing()"
   ]
  },
  {
   "cell_type": "code",
   "execution_count": 6,
   "metadata": {},
   "outputs": [
    {
     "name": "stdout",
     "output_type": "stream",
     "text": [
      "Good afternoon!\n"
     ]
    }
   ],
   "source": [
    "james = Person()                    #클래스는 하나지만, 인스턴스화 시키면 여러개의 붕어빵을 만들수있다.\n",
    "james.hello = 'Good afternoon!'\n",
    "james.greeing()"
   ]
  },
  {
   "cell_type": "code",
   "execution_count": 39,
   "metadata": {},
   "outputs": [],
   "source": [
    "class Person:\n",
    "    #생성자 함수 __init__\n",
    "    def __init__(self, name, age, address):\n",
    "        self.hello = '안녕하세요?'\n",
    "        self.name = name \n",
    "        self.age = age\n",
    "        self.address = address\n",
    "    def greeting(self):\n",
    "        print(f'{self.hello} 저는 {self.name} 입니다.')\n",
    "    #JAVA의 toString() method - 객체출력 메소드\n",
    "    def __str__(self):\n",
    "        return f'hello: {self.hello}, name: {self.name}, age: {self.age}, address: {self.address}'"
   ]
  },
  {
   "cell_type": "code",
   "execution_count": 40,
   "metadata": {},
   "outputs": [
    {
     "name": "stdout",
     "output_type": "stream",
     "text": [
      "안녕하세요? 저는 마리아 입니다.\n"
     ]
    }
   ],
   "source": [
    "maria = Person('마리아', 23, '서울시 강남구 논현동')\n",
    "maria.greeting()\n"
   ]
  },
  {
   "cell_type": "code",
   "execution_count": 41,
   "metadata": {},
   "outputs": [
    {
     "name": "stdout",
     "output_type": "stream",
     "text": [
      "반갑습니다. 저는 마리아 입니다.\n"
     ]
    }
   ],
   "source": [
    "maria.hello = '반갑습니다.'\n",
    "maria.greeting()"
   ]
  },
  {
   "cell_type": "code",
   "execution_count": 37,
   "metadata": {},
   "outputs": [
    {
     "name": "stdout",
     "output_type": "stream",
     "text": [
      "<__main__.Person object at 0x0000029562C15070>\n"
     ]
    }
   ],
   "source": [
    "# __str__method 만들기 전\n",
    "print(maria)"
   ]
  },
  {
   "cell_type": "code",
   "execution_count": 42,
   "metadata": {},
   "outputs": [
    {
     "name": "stdout",
     "output_type": "stream",
     "text": [
      "hello: 반갑습니다., name: 마리아, age: 23, address: 서울시 강남구 논현동\n"
     ]
    }
   ],
   "source": [
    "# __str__method 만든 후\n",
    "print(maria)\n"
   ]
  },
  {
   "cell_type": "markdown",
   "metadata": {},
   "source": [
    "#### 34.3 비공개 속성 \n",
    "- 비공개속성:캡슐화를 하기위한 과정 "
   ]
  },
  {
   "cell_type": "code",
   "execution_count": 43,
   "metadata": {},
   "outputs": [
    {
     "name": "stdout",
     "output_type": "stream",
     "text": [
      "hello: 반갑습니다., name: 마리아, age: 23, address: 서울시 강남구 논현동\n"
     ]
    }
   ],
   "source": [
    "print(maria)"
   ]
  },
  {
   "cell_type": "code",
   "execution_count": 44,
   "metadata": {},
   "outputs": [],
   "source": [
    "class Person:\n",
    "    def __init__(self, name, age, addr, wallet):\n",
    "        self.name = name \n",
    "        self.age = age\n",
    "        self.addr = addr\n",
    "        self.__wallet = wallet          #__ 붙이는순간 비공개속성이 된다."
   ]
  },
  {
   "cell_type": "code",
   "execution_count": 64,
   "metadata": {},
   "outputs": [],
   "source": [
    "james = Person('제임스', 25, '서울시 서초구 반포동', 10000)"
   ]
  },
  {
   "cell_type": "code",
   "execution_count": 65,
   "metadata": {},
   "outputs": [
    {
     "ename": "AttributeError",
     "evalue": "'Person' object has no attribute '__wallet'",
     "output_type": "error",
     "traceback": [
      "\u001b[1;31m---------------------------------------------------------------------------\u001b[0m",
      "\u001b[1;31mAttributeError\u001b[0m                            Traceback (most recent call last)",
      "\u001b[1;32m~\\AppData\\Local\\Temp/ipykernel_19472/2612972070.py\u001b[0m in \u001b[0;36m<module>\u001b[1;34m\u001b[0m\n\u001b[1;32m----> 1\u001b[1;33m \u001b[0mjames\u001b[0m\u001b[1;33m.\u001b[0m\u001b[0m__wallet\u001b[0m\u001b[1;33m\u001b[0m\u001b[1;33m\u001b[0m\u001b[0m\n\u001b[0m",
      "\u001b[1;31mAttributeError\u001b[0m: 'Person' object has no attribute '__wallet'"
     ]
    }
   ],
   "source": [
    "james.__wallet"
   ]
  },
  {
   "cell_type": "code",
   "execution_count": 66,
   "metadata": {},
   "outputs": [],
   "source": [
    "james.__wallet = 20000"
   ]
  },
  {
   "cell_type": "code",
   "execution_count": 67,
   "metadata": {},
   "outputs": [
    {
     "data": {
      "text/plain": [
       "20000"
      ]
     },
     "execution_count": 67,
     "metadata": {},
     "output_type": "execute_result"
    }
   ],
   "source": [
    "james.__wallet"
   ]
  },
  {
   "cell_type": "code",
   "execution_count": 72,
   "metadata": {},
   "outputs": [],
   "source": [
    "class Person:\n",
    "    def __init__(self, name, age, addr, wallet):\n",
    "        self.name = name \n",
    "        self.age = age\n",
    "        self.addr = addr\n",
    "        self.__wallet = wallet          #__ 붙이는순간 비공개속성이 된다. 내부적으로만 쓴다.\n",
    "\n",
    "    #비공개속성에 관한 메소드는 별도로 만들어서 관리를 한다.\n",
    "    def pay(self, amount):          #argument로 amount를 받는다는 뜻\n",
    "        if self.__wallet < amount:\n",
    "            print('지갑에 돈이 부족 합니다.ㅠㅠ')\n",
    "            return                  #return 무조건 argument가 있어야하는거 아님. 돌려보내고 끝\n",
    "        self.__wallet -= amount\n",
    "        print(f'지갑에 남은 돈은 {self.__wallet:,d}원 입니다.')\n",
    "\n",
    "    def __greeting(self):\n",
    "        print('Hello')\n",
    "\n",
    "    def hello(self):\n",
    "        self.__greeting()"
   ]
  },
  {
   "cell_type": "code",
   "execution_count": 73,
   "metadata": {},
   "outputs": [
    {
     "name": "stdout",
     "output_type": "stream",
     "text": [
      "지갑에 남은 돈은 7,500원 입니다.\n"
     ]
    }
   ],
   "source": [
    "james = Person('제임스', 25, '서울시 서초구 반포동', 10000)\n",
    "james.pay(2500)"
   ]
  },
  {
   "cell_type": "code",
   "execution_count": 74,
   "metadata": {},
   "outputs": [
    {
     "name": "stdout",
     "output_type": "stream",
     "text": [
      "지갑에 돈이 부족 합니다.ㅠㅠ\n"
     ]
    }
   ],
   "source": [
    "james.pay(8000)"
   ]
  },
  {
   "cell_type": "code",
   "execution_count": 75,
   "metadata": {},
   "outputs": [
    {
     "ename": "AttributeError",
     "evalue": "'Person' object has no attribute '__greeting'",
     "output_type": "error",
     "traceback": [
      "\u001b[1;31m---------------------------------------------------------------------------\u001b[0m",
      "\u001b[1;31mAttributeError\u001b[0m                            Traceback (most recent call last)",
      "\u001b[1;32m~\\AppData\\Local\\Temp/ipykernel_19472/1319699351.py\u001b[0m in \u001b[0;36m<module>\u001b[1;34m\u001b[0m\n\u001b[1;32m----> 1\u001b[1;33m \u001b[0mjames\u001b[0m\u001b[1;33m.\u001b[0m\u001b[0m__greeting\u001b[0m\u001b[1;33m(\u001b[0m\u001b[1;33m)\u001b[0m\u001b[1;33m\u001b[0m\u001b[1;33m\u001b[0m\u001b[0m\n\u001b[0m",
      "\u001b[1;31mAttributeError\u001b[0m: 'Person' object has no attribute '__greeting'"
     ]
    }
   ],
   "source": [
    "james.__greeting()          # 비공개메소드 : 바깥쪽에서는 안보여서 쓸수없는것\n",
    "\n",
    "# 데이타 보호.를 위할때 또는 음수가되면 안될때(금액) 사전에 조건을 만족해야할때 "
   ]
  },
  {
   "cell_type": "code",
   "execution_count": 76,
   "metadata": {},
   "outputs": [
    {
     "name": "stdout",
     "output_type": "stream",
     "text": [
      "Hello\n"
     ]
    }
   ],
   "source": [
    "james.hello()           #내부적으로 사용 : __greeting 을 쓰기위해서는 hello를 통해서 사용해라.\n",
    "# ex: 크리티컬한내용 사전에 조건이 충족하는지 알아볼때 등 "
   ]
  },
  {
   "cell_type": "markdown",
   "metadata": {},
   "source": [
    "### 연습문제\n",
    "- class Tmoney\n",
    "\n",
    "<pre>\n",
    "표준 입력으로 나이(만 나이)가 입력됩니다(입력 값은 7 이상 입력됨). \n",
    "교통카드 시스템에서 시내버스 요금은 다음과 같으며 각 나이에 맞게 요금을 차감한 뒤 잔액이 출력되게 만드세요(if, elif 사용). 현재 교통카드에는 9,000원이 들어있습니다.\n",
    "\n",
    "어린이(초등학생, 만 7세 이상 12세 이하): 650원\n",
    "청소년(중∙고등학생, 만 13세 이상 18세 이하): 1,050원\n",
    "어른(일반, 만 19세 이상): 1,250원\n",
    "</pre>"
   ]
  },
  {
   "cell_type": "code",
   "execution_count": 85,
   "metadata": {},
   "outputs": [],
   "source": [
    "class Tmoney:\n",
    "    def __init__(self, age, balance):\n",
    "        self.age = age\n",
    "        self.__balance = balance\n",
    "    \n",
    "    def pay(self):\n",
    "        if 7 <= self.age <= 12:\n",
    "            fare = 650\n",
    "        elif 13 <= self.age <= 18:\n",
    "            fare = 1050\n",
    "        elif self.age >= 19:\n",
    "            fare = 1250\n",
    "        else:\n",
    "            fare = 0\n",
    "\n",
    "        if self.__balance < fare:\n",
    "            print('잔액이 부족합니다. ㅠㅠ')\n",
    "            return\n",
    "        self.__balance -= fare\n",
    "        print(f'{self.age}살의 요금은 {fare:,d}이고, 잔액은 {self.__balance:,d}원 입니다.')"
   ]
  },
  {
   "cell_type": "code",
   "execution_count": 88,
   "metadata": {},
   "outputs": [
    {
     "name": "stdout",
     "output_type": "stream",
     "text": [
      "30살의 요금은 1,250이고, 잔액은 8,750원 입니다.\n"
     ]
    }
   ],
   "source": [
    "card = Tmoney(30, 10000)\n",
    "card.pay()"
   ]
  },
  {
   "cell_type": "code",
   "execution_count": 87,
   "metadata": {},
   "outputs": [
    {
     "name": "stdout",
     "output_type": "stream",
     "text": [
      "잔액이 부족합니다. ㅠㅠ\n"
     ]
    }
   ],
   "source": [
    "card = Tmoney(30, 1000)\n",
    "card.pay()"
   ]
  },
  {
   "cell_type": "markdown",
   "metadata": {},
   "source": [
    "- 연습문제\n",
    "<pre>\n",
    "표준 입력으로 금액(정수)이 입력됩니다. \n",
    "1회당 요금은 1,350원이고, 교통카드를 사용했을 때마다의 잔액을 각 줄에 출력하는 프로그램을 만드세요\n",
    "단, 최초 금액은 출력하지 않아야 합니다. \n",
    "그리고 잔액은 음수가 될 수 없으며 잔액이 부족하면 출력을 끝냅니다. </pre>"
   ]
  },
  {
   "cell_type": "code",
   "execution_count": 117,
   "metadata": {},
   "outputs": [],
   "source": [
    "class Bus_card:\n",
    "    def __init__(self, balance, fare):\n",
    "        self.balance = balance\n",
    "        self.fare = fare\n",
    "        \n",
    "    def pay(self):\n",
    "        while self.balance >= 1350:\n",
    "            self.balance -= 1350\n",
    "            print(f'요금은 {self.fare:,d} 원 이고, 잔액은 {self.balance:,d}원 입니다. ')\n"
   ]
  },
  {
   "cell_type": "code",
   "execution_count": 118,
   "metadata": {},
   "outputs": [
    {
     "name": "stdout",
     "output_type": "stream",
     "text": [
      "요금은 1,350 원 이고, 잔액은 8,650원 입니다. \n",
      "요금은 1,350 원 이고, 잔액은 7,300원 입니다. \n",
      "요금은 1,350 원 이고, 잔액은 5,950원 입니다. \n",
      "요금은 1,350 원 이고, 잔액은 4,600원 입니다. \n",
      "요금은 1,350 원 이고, 잔액은 3,250원 입니다. \n",
      "요금은 1,350 원 이고, 잔액은 1,900원 입니다. \n",
      "요금은 1,350 원 이고, 잔액은 550원 입니다. \n"
     ]
    }
   ],
   "source": [
    "james = Bus_card(10000, 1350)\n",
    "james.pay()"
   ]
  },
  {
   "cell_type": "code",
   "execution_count": 123,
   "metadata": {},
   "outputs": [],
   "source": [
    "#문제풀이\n",
    "\n",
    "class Tcard:\n",
    "    def __init__(self, balance):\n",
    "        self.__balance = balance\n",
    "\n",
    "    def get_balance(self):              #getter \n",
    "        return self.__balance\n",
    "\n",
    "    def pay(self, fare=1350):\n",
    "        if self.__balance < fare:\n",
    "            print(f'잔액이 부족합니다.ㅠㅠ')\n",
    "        self.__balance -= fare\n",
    "        print(f'잔액: {self.__balance:,d}')\n"
   ]
  },
  {
   "cell_type": "code",
   "execution_count": 124,
   "metadata": {},
   "outputs": [
    {
     "name": "stdout",
     "output_type": "stream",
     "text": [
      "잔액: 8,650\n",
      "잔액: 7,300\n",
      "잔액: 5,950\n",
      "잔액: 4,600\n",
      "잔액: 3,250\n",
      "잔액: 1,900\n",
      "잔액: 550\n"
     ]
    }
   ],
   "source": [
    "card = Tcard(10000)\n",
    "fare = 1350\n",
    "while card.get_balance() >= fare:\n",
    "    card.pay()"
   ]
  }
 ],
 "metadata": {
  "interpreter": {
   "hash": "e48f609a4c5fca29c8a1775407f6fce609db058722d3a0684c1d7163d9441f10"
  },
  "kernelspec": {
   "display_name": "Python 3.9.7 ('base')",
   "language": "python",
   "name": "python3"
  },
  "language_info": {
   "codemirror_mode": {
    "name": "ipython",
    "version": 3
   },
   "file_extension": ".py",
   "mimetype": "text/x-python",
   "name": "python",
   "nbconvert_exporter": "python",
   "pygments_lexer": "ipython3",
   "version": "3.9.7"
  },
  "orig_nbformat": 4
 },
 "nbformat": 4,
 "nbformat_minor": 2
}
