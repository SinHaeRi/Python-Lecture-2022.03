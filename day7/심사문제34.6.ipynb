{
 "cells": [
  {
   "cell_type": "markdown",
   "metadata": {},
   "source": [
    "- 34.6 심사문제: 게임 캐릭터 클래스 만들기\n",
    "\n",
    "표준 입력으로 게임 캐릭터 능력치(체력, 마나, AP)가 입력됩니다. 다음 소스 코드에서 애니(Annie) 클래스를 작성하여 티버(tibbers) 스킬의 피해량이 출력되게 만드세요. 티버의 피해량은 AP * 0.65 + 400이며 AP(Ability Power, 주문력)는 마법 능력치를 뜻합니다.\n",
    "\n",
    "judge_class.py\n",
    "________________\n",
    "________________\n",
    "________________\n",
    "________________\n",
    "________________\n",
    "________________\n",
    "________________\n",
    "\n",
    "health, mana, ability_power = map(float, input().split())\n",
    " \n",
    "x = Annie(health=health, mana=mana, ability_power=ability_power)\n",
    "x.tibbers()\n",
    "예\n",
    "입력\n",
    "511.68 334.0 298\n",
    "결과\n",
    "티버: 피해량 593.7\n",
    "입력\n",
    "1803.68 1184.0 645\n",
    "결과\n",
    "티버: 피해량 819.25\n"
   ]
  },
  {
   "cell_type": "markdown",
   "metadata": {},
   "source": [
    "- 연습문제 \n",
    "\n",
    "1. Calculator\n",
    " add, sub, mul, div 메소드 구현\n",
    " 단, 0으로 나누지 못하게 할 것\n",
    "\n",
    "2. Account 클래스 만들기\n",
    "### 속성\n",
    "ano: 문자열 6글자, '123456'\n",
    "owner: 문자열\n",
    "balance: 잔액, 비고개 속성\n",
    "\n",
    "###Method\n",
    "생성자\n",
    "deposit(amount) 잔액이 1000만원 이상이면 입금할 수 없음\n",
    "withdraw(amount) 잔액이 0원 미만이면 출금할 수 없음\n",
    "출력 가능하게(__str__)"
   ]
  },
  {
   "cell_type": "code",
   "execution_count": null,
   "metadata": {},
   "outputs": [],
   "source": []
  }
 ],
 "metadata": {
  "language_info": {
   "name": "python"
  },
  "orig_nbformat": 4
 },
 "nbformat": 4,
 "nbformat_minor": 2
}
